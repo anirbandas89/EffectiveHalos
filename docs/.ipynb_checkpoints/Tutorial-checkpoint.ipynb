{
 "cells": [
  {
   "cell_type": "markdown",
   "metadata": {},
   "source": [
    "# EffectiveHalos Usage"
   ]
  },
  {
   "cell_type": "markdown",
   "metadata": {},
   "source": [
    "### Initializing the Module\n",
    "\n",
    "To use EffectiveHalos, first load the Cosmology module to set the cosmological parameters and redshift. The class accepts either the name of a pre-loaded cosmology, or any parameters used by CLASS. For a list of available cosmologies see the docstrings, or the full API.\n",
    "\n",
    "Here we'll initialize with the cosmology used in the Quijote simulations at redshift zero: "
   ]
  },
  {
   "cell_type": "code",
   "execution_count": 1,
   "metadata": {},
   "outputs": [
    {
     "name": "stdout",
     "output_type": "stream",
     "text": [
      "Loading the Quijote cosmology at z = 0.00\n",
      "Loading CLASS\n"
     ]
    }
   ],
   "source": [
    "from EffectiveHalos import *\n",
    "import numpy as np\n",
    "import matplotlib.pyplot as plt\n",
    "\n",
    "z = 0.\n",
    "cosmology = Cosmology(z, name = 'Quijote', verb = True) # set verb = True to display useful messages throughout runtime"
   ]
  },
  {
   "cell_type": "markdown",
   "metadata": {},
   "source": [
    "Next, load the mass function. Here we'll use the prescription of Bhattacharya et al. 2010:"
   ]
  },
  {
   "cell_type": "code",
   "execution_count": 2,
   "metadata": {},
   "outputs": [
    {
     "name": "stdout",
     "output_type": "stream",
     "text": [
      "Using fitted parameters for the Bhattacharya mass function from Quijote simulations \n"
     ]
    }
   ],
   "source": [
    "mass_function = MassFunction(cosmology, mass_function_name = 'Bhattacharya', verb = True)"
   ]
  },
  {
   "cell_type": "markdown",
   "metadata": {},
   "source": [
    "Finally, the HaloPhysics class must be initialized. This includes the halo profile and concentration. We'll use the standard NFW profiles (Navarro et al. 1999) and the halo concentration prescription of Duffy et al. 2010:"
   ]
  },
  {
   "cell_type": "code",
   "execution_count": 3,
   "metadata": {},
   "outputs": [
    {
     "name": "stdout",
     "output_type": "stream",
     "text": [
      "Creating an interpolator for sigma(M) and its derivative.\n"
     ]
    }
   ],
   "source": [
    "halo_physics = HaloPhysics(cosmology, mass_function, concentration_name = 'Duffy', profile_name = 'NFW', verb = True)"
   ]
  },
  {
   "cell_type": "markdown",
   "metadata": {},
   "source": [
    "This class contains a number of optional arguments controlling interpolation and the mass function limits. For more information, see the module API."
   ]
  },
  {
   "cell_type": "markdown",
   "metadata": {},
   "source": [
    "### Computing Power Spectra\n",
    "\n",
    "In this section, we'll compute model power spectra with free parameters fitted to the mean of 100 high-resolution Quijote $N$-body simulations. This is provided with the module, using $k_\\mathrm{max} = 0.8h\\,\\mathrm{Mpc}^{-1}$.\n",
    "\n",
    "The first step is to load the simulation data, and initialize the HaloModel class:"
   ]
  },
  {
   "cell_type": "code",
   "execution_count": 9,
   "metadata": {},
   "outputs": [],
   "source": [
    "# Load simulated data\n",
    "k, Pk, Pk_err = np.loadtxt('/home/ophilcox/EffectiveHalos/quijote_HR_spectra_z0.txt', unpack = True)\n",
    "\n",
    "# Initialize the HaloPower class\n",
    "halo_model = HaloModel(cosmology, mass_function, halo_physics, k, verb = True)"
   ]
  },
  {
   "cell_type": "markdown",
   "metadata": {},
   "source": [
    "Power spectra can be computed using the ``halo_model()`` function. This features a number of optional arguments which control various features of the power spectrum model. The full effective halo model is obtained by setting these to their default values. \n",
    "\n",
    "The Effective Halo Model requires two free parameters; the effective sound speed $c_s^2$ and the density field smoothing scale $R$. Here we'll set them by comparing the model spectrum to the Quijote simulations.\n",
    "\n",
    "Note that power spectra computation takes a few seconds the first time it is run since numerical integrals must be computed, but negligible time for any additional runs."
   ]
  },
  {
   "cell_type": "code",
   "execution_count": null,
   "metadata": {},
   "outputs": [
    {
     "name": "stdout",
     "output_type": "stream",
     "text": [
      "Computing one-loop power spectrum\n",
      "Non-linear BAO damping scale = 5.47 Mpc/h\n",
      "Computing one-loop power spectrum\n"
     ]
    }
   ],
   "source": [
    "# Create a simple Gaussian likelihood\n",
    "def likelihood(parameters):\n",
    "    cs2, R = parameters\n",
    "    model_Pk = halo_model.halo_model(cs2, R)\n",
    "    return np.sum((model_Pk - Pk)**2. / Pk_err**2.)\n",
    "    \n",
    "# Optimize free parameters\n",
    "from scipy.optimize import minimize\n",
    "p0 = [1., 1.]\n",
    "output = minimize(likelihood, p0)\n",
    "cs2, R = output.x\n",
    "\n",
    "print(\"Optimal parameters are c_s^2 = %.2f, R = %.2f\"%(cs2, R))"
   ]
  },
  {
   "cell_type": "markdown",
   "metadata": {},
   "source": [
    "Let's plot the fitted power spectrum from the effective halo model, alongside the prediction from the standard halo model. Note that we canalso return the one- and two-halo terms separately using the ``return_terms`` argument of the ``halo_model()`` function."
   ]
  },
  {
   "cell_type": "code",
   "execution_count": null,
   "metadata": {},
   "outputs": [],
   "source": [
    "# Compute the spectrum using the effective halo model\n",
    "power_EHM, power_1h, power_2h = halo_model.halo_model(cs2, R, return_terms = True)\n",
    "\n",
    "# Compute the spectrum using the standard halo model\n",
    "power_SHM = halo_model.halo_model(cs2, R, pt_type = 'Linear', pade_resum = False, smooth_density = False,\n",
    "                                 IR_resum = False, return_terms = False)\n",
    "\n",
    "# Plot the results\n",
    "plt.figure(figsize = (8,6))\n",
    "plt.plot(k, k * power_EHM, c = 'r', label = 'Effective Halo Model')\n",
    "plt.plot(k, k * power_SHM, c = 'b', label = 'Standard Halo Model')\n",
    "plt.errorbar(k, k * Pk, yerr = k * Pk_err, ls = '', marker = '.', c = 'k', label = 'Quijote Simulations')\n",
    "plt.plot(k, k * power_1h, ls = '--', c = 'g', label = '1-halo Term')\n",
    "plt.plot(k, k * power_2h, ls = '--', c = 'm', label = '2-halo Term')\n",
    "plt.xlabel(r'$k$ [$h\\,\\mathrm{Mpc}^{-1}$]', fontsize = 15)\n",
    "plt.ylabel(r'$k\\,P(k)$ [$h^{-2}\\mathrm{Mpc}^{2}$]', fontsize = 15)\n",
    "plt.title(r'z = %s'%z, fontsize = 15)\n",
    "plt.legend(fontsize = 13)\n",
    "plt.show()"
   ]
  },
  {
   "cell_type": "markdown",
   "metadata": {},
   "source": [
    "To see this in more detail, let's plot the ratio:"
   ]
  },
  {
   "cell_type": "code",
   "execution_count": null,
   "metadata": {},
   "outputs": [],
   "source": [
    "plt.figure(figsize = (8,6))\n",
    "plt.errorbar(k, Pk / power_EHM, yerr = Pk_err / power_EHM, ls = '', marker = '.', c = 'r', label = 'Effective Halo Model')\n",
    "plt.errorbar(k, Pk / power_SHM, yerr = Pk_err / power_SHM, ls = '', marker = '.', c = 'b', label = 'Standard Halo Model')\n",
    "plt.xlabel(r'$k$ [$h\\,\\mathrm{Mpc}^{-1}$]', fontsize = 15)\n",
    "plt.ylabel(r'$P_\\mathrm{sim}(k) / P_\\mathrm{model}(k)$', fontsize = 15)\n",
    "plt.title(r'z = %s'%z, fontsize = 15)\n",
    "plt.legend(fontsize = 13)\n",
    "plt.hlines(1., 0, 1)\n",
    "plt.hlines([0.99, 1.01], 0, 1, linestyles = '--')\n",
    "plt.xlim([0.01, 0.8])\n",
    "plt.show()"
   ]
  },
  {
   "cell_type": "markdown",
   "metadata": {},
   "source": [
    "### Computing Covariance Matrices"
   ]
  },
  {
   "cell_type": "markdown",
   "metadata": {},
   "source": [
    "EffectiveHalos can be used to compute the covariance matrices of halo counts. This is done using the ``CountsCovariance`` class. Below, we compute and plot the covariance matrix for a selection of massive halos using the ``NN_covariance()`` function. This uses the optimal parameters $c_s^2$ and $R$ found above. We will additionally set the exclusion parameter $\\alpha$ to $1/2$.\n",
    "\n",
    "Note that there are three contributions to the covariance; intrinsic, extrinsic and super-sample covariances. These can be turned off using the ``use_SSC`` and ``use_exclusion`` arguments. An important hyperparameter is $\\sigma^2(V)$; the variance of the linear density field across the survey or simulation. This can be computed separately and passed to EffectiveHalos. If this is not present, it will be computed using CLASS, assuming that the survey is isotropic (rarely a valid assumption)."
   ]
  },
  {
   "cell_type": "code",
   "execution_count": null,
   "metadata": {},
   "outputs": [],
   "source": [
    "# Define parameters\n",
    "mass_bins = np.logspace(13, 15, 10) # mass bin limits in Msun/h units\n",
    "volume = 1000.**3. # survey volume in (Mpc/h)^3\n",
    "alpha = 0.5 # exclusion parameter, in range (0, 1)\n",
    "\n",
    "# Load the class\n",
    "counts_covariance = CountsCovariance(cosmology, mass_function, halo_physics, k, mass_bins, volume, verb = True)\n",
    "\n",
    "# Compute the covariance of halo counts\n",
    "cov_NN = counts_covariance.NN_covariance(cs2, R, alpha, use_SSC = True, use_exclusion = True)\n",
    "\n",
    "# Plot the covariance\n",
    "fig = plt.figure(figsize = (5,5))\n",
    "ax = fig.add_subplot(111)\n",
    "cax = ax.matshow(cov_NN)\n",
    "fig.colorbar(cax)\n",
    "ax.xaxis.tick_bottom()\n",
    "ax.set_title(r'Halo Count Covariance at z = %s'%z);"
   ]
  },
  {
   "cell_type": "markdown",
   "metadata": {},
   "source": [
    "Finally, we can compute the covariance between halo counts and the matter power spectrum using the ``NP_covariance()`` function. We'll do this for the mass bins specfied above, including all sources of covariance."
   ]
  },
  {
   "cell_type": "code",
   "execution_count": null,
   "metadata": {},
   "outputs": [],
   "source": [
    "# Compute the covariance of halo counts\n",
    "cov_NP = counts_covariance.NP_covariance(cs2, R, alpha, use_SSC = True, use_exclusion = True)\n",
    "\n",
    "# Define means of mass bins\n",
    "mass_mean = 0.5*(mass_bins[1:] + mass_bins[:-1])\n",
    "\n",
    "# Plot the output\n",
    "plt.figure(figsize = (8,6))\n",
    "for i in range(len(mass_mean)):\n",
    "    plt.plot(k, k * cov_NP[i], label = \"%.1f\"%(np.log10(mass_mean[i])))\n",
    "plt.ylabel(r'$k \\times \\mathrm{cov}\\left[N(m), P(k)\\right]$', fontsize = 15)\n",
    "plt.xlabel(r'$k$ [$h\\,\\mathrm{Mpc}^{-1}$]', fontsize = 15)\n",
    "plt.legend(fontsize = 13)\n",
    "plt.xlim([0,1])\n",
    "plt.title('Halo Count and Matter Power Spectrum Cross-Covariance at $z = %s$'%z, fontsize = 14);"
   ]
  },
  {
   "cell_type": "markdown",
   "metadata": {},
   "source": [
    "This completes the tutorial!"
   ]
  }
 ],
 "metadata": {
  "kernelspec": {
   "display_name": "Python 2",
   "language": "python",
   "name": "python2"
  },
  "language_info": {
   "codemirror_mode": {
    "name": "ipython",
    "version": 2
   },
   "file_extension": ".py",
   "mimetype": "text/x-python",
   "name": "python",
   "nbconvert_exporter": "python",
   "pygments_lexer": "ipython2",
   "version": "2.7.17"
  }
 },
 "nbformat": 4,
 "nbformat_minor": 2
}
